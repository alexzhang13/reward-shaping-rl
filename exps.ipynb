{
 "cells": [
  {
   "cell_type": "code",
   "execution_count": 1,
   "id": "44a9b27d-d5f2-4ad8-abe9-97c0faadaa73",
   "metadata": {},
   "outputs": [],
   "source": [
    "import numpy as np\n",
    "from poke_env.player import RandomPlayer\n",
    "\n",
    "from pokeagent.agents.SimpleRLAgent import SimpleRLPlayer"
   ]
  },
  {
   "cell_type": "code",
   "execution_count": 16,
   "id": "3e3468bd-c9dc-4a07-9720-cb0147564b90",
   "metadata": {},
   "outputs": [],
   "source": [
    "# To port over into our code\n",
    "\n",
    "\n",
    "\n",
    "with open('data/team1.txt') as f:\n",
    "    team = f.read()"
   ]
  },
  {
   "cell_type": "code",
   "execution_count": 19,
   "id": "178fd608-d067-411d-b282-3d19fba4cdef",
   "metadata": {},
   "outputs": [],
   "source": [
    "opponent = RandomPlayer(battle_format=\"gen7ou\", team=team)\n",
    "train_env = SimpleRLPlayer(\n",
    "    battle_format=\"gen7ou\", team=team, opponent=opponent, start_challenging=True\n",
    ")"
   ]
  },
  {
   "cell_type": "code",
   "execution_count": 20,
   "id": "3b9e9ba6-c6d6-418f-9651-d686ff43e17d",
   "metadata": {},
   "outputs": [],
   "source": [
    "obs, reward, done, info, what = train_env.step(1)"
   ]
  },
  {
   "cell_type": "code",
   "execution_count": 33,
   "id": "b2d6151e-8593-4bfb-b682-6584c485dc36",
   "metadata": {},
   "outputs": [
    {
     "name": "stdout",
     "output_type": "stream",
     "text": [
      "active pokemon: medicham (pokemon object) [Active: True, Status: None]\n",
      "available moves: [fakeout (Move object), highjumpkick (Move object), zenheadbutt (Move object), icepunch (Move object)]\n",
      "available switches: {'p1: Tapu Koko': tapukoko (pokemon object) [Active: False, Status: None], 'p1: Landorus': landorustherian (pokemon object) [Active: False, Status: None], 'p1: Toxapex': toxapex (pokemon object) [Active: False, Status: None], 'p1: Serperior': serperior (pokemon object) [Active: False, Status: None], 'p1: Celesteela': celesteela (pokemon object) [Active: False, Status: None], 'p1: Medicham': medicham (pokemon object) [Active: True, Status: None]}\n",
      "opponent team: {'p2: Tapu Koko': tapukoko (pokemon object) [Active: True, Status: None]}\n"
     ]
    }
   ],
   "source": [
    "print('active pokemon:', obs.active_pokemon)\n",
    "print('available moves:', obs.available_moves)\n",
    "print('available switches:', obs.team)\n",
    "print('opponent team:', obs.opponent_team)"
   ]
  },
  {
   "cell_type": "code",
   "execution_count": 34,
   "id": "6bfb44a9-1845-44a6-8a48-6a031fdbd05c",
   "metadata": {},
   "outputs": [
    {
     "data": {
      "text/plain": [
       "['__class__',\n",
       " '__delattr__',\n",
       " '__dir__',\n",
       " '__doc__',\n",
       " '__eq__',\n",
       " '__format__',\n",
       " '__ge__',\n",
       " '__getattribute__',\n",
       " '__gt__',\n",
       " '__hash__',\n",
       " '__init__',\n",
       " '__init_subclass__',\n",
       " '__le__',\n",
       " '__lt__',\n",
       " '__module__',\n",
       " '__ne__',\n",
       " '__new__',\n",
       " '__reduce__',\n",
       " '__reduce_ex__',\n",
       " '__repr__',\n",
       " '__setattr__',\n",
       " '__sizeof__',\n",
       " '__slotnames__',\n",
       " '__slots__',\n",
       " '__str__',\n",
       " '__subclasshook__',\n",
       " '_ability',\n",
       " '_active',\n",
       " '_add_move',\n",
       " '_base_stats',\n",
       " '_boosts',\n",
       " '_clear_effects',\n",
       " '_current_hp',\n",
       " '_data',\n",
       " '_effects',\n",
       " '_first_turn',\n",
       " '_gender',\n",
       " '_heightm',\n",
       " '_item',\n",
       " '_last_details',\n",
       " '_last_request',\n",
       " '_level',\n",
       " '_max_hp',\n",
       " '_moves',\n",
       " '_must_recharge',\n",
       " '_possible_abilities',\n",
       " '_preparing_move',\n",
       " '_preparing_target',\n",
       " '_protect_counter',\n",
       " '_revealed',\n",
       " '_shiny',\n",
       " '_species',\n",
       " '_status',\n",
       " '_status_counter',\n",
       " '_swap_boosts',\n",
       " '_terastallized',\n",
       " '_terastallized_type',\n",
       " '_type_1',\n",
       " '_type_2',\n",
       " '_update_from_details',\n",
       " '_update_from_pokedex',\n",
       " '_weightkg',\n",
       " 'ability',\n",
       " 'active',\n",
       " 'available_moves_from_request',\n",
       " 'available_z_moves',\n",
       " 'base_species',\n",
       " 'base_stats',\n",
       " 'boost',\n",
       " 'boosts',\n",
       " 'cant_move',\n",
       " 'clear_active',\n",
       " 'clear_boosts',\n",
       " 'clear_negative_boosts',\n",
       " 'clear_positive_boosts',\n",
       " 'copy_boosts',\n",
       " 'cure_status',\n",
       " 'current_hp',\n",
       " 'current_hp_fraction',\n",
       " 'damage',\n",
       " 'damage_multiplier',\n",
       " 'effects',\n",
       " 'end_effect',\n",
       " 'end_item',\n",
       " 'end_turn',\n",
       " 'faint',\n",
       " 'fainted',\n",
       " 'first_turn',\n",
       " 'forme_change',\n",
       " 'gender',\n",
       " 'heal',\n",
       " 'height',\n",
       " 'invert_boosts',\n",
       " 'is_dynamaxed',\n",
       " 'item',\n",
       " 'level',\n",
       " 'max_hp',\n",
       " 'mega_evolve',\n",
       " 'moved',\n",
       " 'moves',\n",
       " 'must_recharge',\n",
       " 'pokeball',\n",
       " 'possible_abilities',\n",
       " 'prepare',\n",
       " 'preparing',\n",
       " 'preparing_move',\n",
       " 'preparing_target',\n",
       " 'primal',\n",
       " 'protect_counter',\n",
       " 'revealed',\n",
       " 'set_boost',\n",
       " 'set_hp',\n",
       " 'set_hp_status',\n",
       " 'shiny',\n",
       " 'species',\n",
       " 'stab_multiplier',\n",
       " 'start_effect',\n",
       " 'stats',\n",
       " 'status',\n",
       " 'status_counter',\n",
       " 'switch_in',\n",
       " 'switch_out',\n",
       " 'terastallize',\n",
       " 'terastallized',\n",
       " 'transform',\n",
       " 'type_1',\n",
       " 'type_2',\n",
       " 'types',\n",
       " 'update_from_request',\n",
       " 'used_z_move',\n",
       " 'was_illusioned',\n",
       " 'weight']"
      ]
     },
     "execution_count": 34,
     "metadata": {},
     "output_type": "execute_result"
    }
   ],
   "source": [
    "dir(obs.active_pokemon)"
   ]
  },
  {
   "cell_type": "code",
   "execution_count": null,
   "id": "7980fc14-2f1b-4dbf-94e3-556c48c78689",
   "metadata": {},
   "outputs": [],
   "source": []
  }
 ],
 "metadata": {
  "kernelspec": {
   "display_name": "Python 3 (ipykernel)",
   "language": "python",
   "name": "python3"
  },
  "language_info": {
   "codemirror_mode": {
    "name": "ipython",
    "version": 3
   },
   "file_extension": ".py",
   "mimetype": "text/x-python",
   "name": "python",
   "nbconvert_exporter": "python",
   "pygments_lexer": "ipython3",
   "version": "3.8.18"
  }
 },
 "nbformat": 4,
 "nbformat_minor": 5
}
